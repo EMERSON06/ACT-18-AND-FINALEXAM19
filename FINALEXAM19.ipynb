{
  "nbformat": 4,
  "nbformat_minor": 0,
  "metadata": {
    "colab": {
      "provenance": [],
      "authorship_tag": "ABX9TyMjAKlYbJOaJGbUHi5bMxHE",
      "include_colab_link": true
    },
    "kernelspec": {
      "name": "python3",
      "display_name": "Python 3"
    },
    "language_info": {
      "name": "python"
    }
  },
  "cells": [
    {
      "cell_type": "markdown",
      "metadata": {
        "id": "view-in-github",
        "colab_type": "text"
      },
      "source": [
        "<a href=\"https://colab.research.google.com/github/EMERSON06/ACT-18-AND-FINALEXAM19/blob/main/FINALEXAM19.ipynb\" target=\"_parent\"><img src=\"https://colab.research.google.com/assets/colab-badge.svg\" alt=\"Open In Colab\"/></a>"
      ]
    },
    {
      "cell_type": "code",
      "execution_count": 1,
      "metadata": {
        "colab": {
          "base_uri": "https://localhost:8080/"
        },
        "id": "aV0j-68tF6Y2",
        "outputId": "85eb8643-827d-4cfc-a18a-7b53c30495f2"
      },
      "outputs": [
        {
          "output_type": "stream",
          "name": "stdout",
          "text": [
            "Mounted at /content/drive\n"
          ]
        }
      ],
      "source": [
        "from google.colab import drive\n",
        "drive.mount('/content/drive')"
      ]
    },
    {
      "cell_type": "code",
      "source": [
        "import pandas as pd"
      ],
      "metadata": {
        "id": "INmxsQGnIyrC"
      },
      "execution_count": 2,
      "outputs": []
    },
    {
      "cell_type": "code",
      "source": [
        "filename = '/content/drive/MyDrive/titanic.csv'\n",
        "df = pd.read_csv(filename)"
      ],
      "metadata": {
        "id": "lmoe59jeI6lV"
      },
      "execution_count": 4,
      "outputs": []
    },
    {
      "cell_type": "code",
      "source": [
        "print(df.head())\n"
      ],
      "metadata": {
        "colab": {
          "base_uri": "https://localhost:8080/"
        },
        "id": "5_kdlB3cJhZO",
        "outputId": "cd09167f-b9bf-49ae-b85c-55bacd4fcde3"
      },
      "execution_count": 6,
      "outputs": [
        {
          "output_type": "stream",
          "name": "stdout",
          "text": [
            "   PassengerId  Survived  Pclass  \\\n",
            "0            1         0       3   \n",
            "1            2         1       1   \n",
            "2            3         1       3   \n",
            "3            4         1       1   \n",
            "4            5         0       3   \n",
            "\n",
            "                                                Name     Sex   Age  SibSp  \\\n",
            "0                            Braund, Mr. Owen Harris    male  22.0      1   \n",
            "1  Cumings, Mrs. John Bradley (Florence Briggs Th...  female  38.0      1   \n",
            "2                             Heikkinen, Miss. Laina  female  26.0      0   \n",
            "3       Futrelle, Mrs. Jacques Heath (Lily May Peel)  female  35.0      1   \n",
            "4                           Allen, Mr. William Henry    male  35.0      0   \n",
            "\n",
            "   Parch            Ticket     Fare Cabin Embarked  \n",
            "0      0         A/5 21171   7.2500   NaN        S  \n",
            "1      0          PC 17599  71.2833   C85        C  \n",
            "2      0  STON/O2. 3101282   7.9250   NaN        S  \n",
            "3      0            113803  53.1000  C123        S  \n",
            "4      0            373450   8.0500   NaN        S  \n"
          ]
        }
      ]
    },
    {
      "cell_type": "code",
      "source": [
        "survival_percentage = df['Survived'].mean() * 100\n",
        "print(\"\\nPercentage of people who survived: {:.2f}%\".format(survival_percentage))"
      ],
      "metadata": {
        "colab": {
          "base_uri": "https://localhost:8080/"
        },
        "id": "w2AA3JgFJqqL",
        "outputId": "b4d827d4-c70e-4ea3-81a6-83b6694954e0"
      },
      "execution_count": 7,
      "outputs": [
        {
          "output_type": "stream",
          "name": "stdout",
          "text": [
            "\n",
            "Percentage of people who survived: 38.38%\n"
          ]
        }
      ]
    },
    {
      "cell_type": "code",
      "source": [
        "sex_survival_count = df.groupby('Sex')['Survived'].sum()\n",
        "print(\"\\nNumber of survivors by sex:\")\n",
        "print(sex_survival_count)"
      ],
      "metadata": {
        "colab": {
          "base_uri": "https://localhost:8080/"
        },
        "id": "Gcn2UYVMKaDB",
        "outputId": "dae1cb07-b9c2-453f-cac7-7cfdf8a32ef9"
      },
      "execution_count": 8,
      "outputs": [
        {
          "output_type": "stream",
          "name": "stdout",
          "text": [
            "\n",
            "Number of survivors by sex:\n",
            "Sex\n",
            "female    233\n",
            "male      109\n",
            "Name: Survived, dtype: int64\n"
          ]
        }
      ]
    },
    {
      "cell_type": "code",
      "source": [
        "cheap_ticket_survival_percentage = (df[df['Fare'] < 10]['Survived'].mean()) * 100\n",
        "print(\"\\nPercentage of passengers who paid less than $10 and survived: {:.2f}%\".format(cheap_ticket_survival_percentage))"
      ],
      "metadata": {
        "colab": {
          "base_uri": "https://localhost:8080/"
        },
        "id": "NLS0-QsPKdcw",
        "outputId": "ecd59918-b030-4b3c-c5d9-b5c7c917f63f"
      },
      "execution_count": 9,
      "outputs": [
        {
          "output_type": "stream",
          "name": "stdout",
          "text": [
            "\n",
            "Percentage of passengers who paid less than $10 and survived: 19.94%\n"
          ]
        }
      ]
    },
    {
      "cell_type": "code",
      "source": [
        "average_age_not_survived = df[df['Survived'] == 0]['Age'].mean()\n",
        "print(\"\\nAverage age of those who didn't survive: {:.2f}\".format(average_age_not_survived))"
      ],
      "metadata": {
        "colab": {
          "base_uri": "https://localhost:8080/"
        },
        "id": "Yx2a7yPAKgwP",
        "outputId": "03e6ddef-1578-4018-c7f3-27c582be78a1"
      },
      "execution_count": 10,
      "outputs": [
        {
          "output_type": "stream",
          "name": "stdout",
          "text": [
            "\n",
            "Average age of those who didn't survive: 30.63\n"
          ]
        }
      ]
    },
    {
      "cell_type": "code",
      "source": [
        "average_age_survived = df[df['Survived'] == 1]['Age'].mean()\n",
        "print(\"\\nAverage age of those who did survive: {:.2f}\".format(average_age_survived))\n"
      ],
      "metadata": {
        "id": "rU9QwISPLC0A",
        "outputId": "e1200178-3844-4e3e-a437-454a3b59e11e",
        "colab": {
          "base_uri": "https://localhost:8080/"
        }
      },
      "execution_count": 11,
      "outputs": [
        {
          "output_type": "stream",
          "name": "stdout",
          "text": [
            "\n",
            "Average age of those who did survive: 28.34\n"
          ]
        }
      ]
    },
    {
      "cell_type": "code",
      "source": [
        "average_age_by_survival_and_sex = df.groupby(['Survived', 'Sex'])['Age'].mean()\n",
        "print(\"\\nAverage age of those who did and didn't survive grouped by Sex:\")\n",
        "print(average_age_by_survival_and_sex)\n"
      ],
      "metadata": {
        "id": "Z_C_yqP1LG2P",
        "outputId": "8051f2c2-340a-468e-b7e3-b0761b8a8311",
        "colab": {
          "base_uri": "https://localhost:8080/"
        }
      },
      "execution_count": 14,
      "outputs": [
        {
          "output_type": "stream",
          "name": "stdout",
          "text": [
            "\n",
            "Average age of those who did and didn't survive grouped by Sex:\n",
            "Survived  Sex   \n",
            "0         female    25.046875\n",
            "          male      31.618056\n",
            "1         female    28.847716\n",
            "          male      27.276022\n",
            "Name: Age, dtype: float64\n"
          ]
        }
      ]
    }
  ]
}